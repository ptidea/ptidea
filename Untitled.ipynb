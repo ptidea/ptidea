{
 "cells": [
  {
   "cell_type": "code",
   "execution_count": 1,
   "id": "1a54dca9",
   "metadata": {},
   "outputs": [
    {
     "ename": "SyntaxError",
     "evalue": "Missing parentheses in call to 'print'. Did you mean print(함수로 Hello, world!를 출력합니다.)? (1268874442.py, line 1)",
     "output_type": "error",
     "traceback": [
      "\u001b[0;36m  File \u001b[0;32m\"/tmp/ipykernel_1152/1268874442.py\"\u001b[0;36m, line \u001b[0;32m1\u001b[0m\n\u001b[0;31m    print 함수로 Hello, world!를 출력합니다.\u001b[0m\n\u001b[0m          ^\u001b[0m\n\u001b[0;31mSyntaxError\u001b[0m\u001b[0;31m:\u001b[0m Missing parentheses in call to 'print'. Did you mean print(함수로 Hello, world!를 출력합니다.)?\n"
     ]
    }
   ],
   "source": [
    "print 함수로 Hello, world!를 출력합니다."
   ]
  },
  {
   "cell_type": "markdown",
   "id": "085f9820",
   "metadata": {},
   "source": [
    "## Hello, world! 출력\n",
    "print 함수로 Hello, world!를 출력합니다."
   ]
  },
  {
   "cell_type": "code",
   "execution_count": 2,
   "id": "9f744ecb",
   "metadata": {},
   "outputs": [
    {
     "name": "stdout",
     "output_type": "stream",
     "text": [
      "Hello, world!\n"
     ]
    }
   ],
   "source": [
    "print('Hello, world!')"
   ]
  },
  {
   "cell_type": "code",
   "execution_count": null,
   "id": "a0cb68ed",
   "metadata": {},
   "outputs": [],
   "source": []
  }
 ],
 "metadata": {
  "kernelspec": {
   "display_name": "Python 3 (ipykernel)",
   "language": "python",
   "name": "python3"
  },
  "language_info": {
   "codemirror_mode": {
    "name": "ipython",
    "version": 3
   },
   "file_extension": ".py",
   "mimetype": "text/x-python",
   "name": "python",
   "nbconvert_exporter": "python",
   "pygments_lexer": "ipython3",
   "version": "3.9.13"
  }
 },
 "nbformat": 4,
 "nbformat_minor": 5
}
